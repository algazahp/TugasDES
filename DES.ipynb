{
 "cells": [
  {
   "cell_type": "markdown",
   "metadata": {},
   "source": [
    "Key berdasarkan wiki : https://en.wikipedia.org/wiki/DES_supplementary_material"
   ]
  },
  {
   "cell_type": "markdown",
   "metadata": {},
   "source": [
    "## Keys (PRESET)"
   ]
  },
  {
   "cell_type": "code",
   "execution_count": 21,
   "metadata": {},
   "outputs": [],
   "source": [
    "IP = [58, 50, 42, 34, 26, 18, 10, 2,\n",
    "      60, 52, 44, 36, 28, 20, 12, 4,\n",
    "      62, 54, 46, 38, 30, 22, 14, 6,\n",
    "      64, 56, 48, 40, 32, 24, 16, 8,\n",
    "      57, 49, 41, 33, 25, 17, 9, 1,\n",
    "      59, 51, 43, 35, 27, 19, 11, 3,\n",
    "      61, 53, 45, 37, 29, 21, 13, 5,\n",
    "      63, 55, 47, 39, 31, 23, 15, 7]\n",
    "\n",
    "FP = [40, 8, 48, 16, 56, 24, 64, 32,\n",
    "      39, 7, 47, 15, 55, 23, 63, 31,\n",
    "      38, 6, 46, 14, 54, 22, 62, 30,\n",
    "      37, 5, 45, 13, 53, 21, 61, 29,\n",
    "      36, 4, 44, 12, 52, 20, 60, 28,\n",
    "      35, 3, 43, 11, 51, 19, 59, 27,\n",
    "      34, 2, 42, 10, 50, 18, 58, 26,\n",
    "      33, 1, 41, 9, 49, 17, 57, 25]\n",
    "\n",
    "E = [32, 1, 2, 3, 4, 5,\n",
    "     4, 5, 6, 7, 8, 9,\n",
    "     8, 9, 10, 11, 12, 13,\n",
    "     12, 13, 14, 15, 16, 17,\n",
    "     16, 17, 18, 19, 20, 21,\n",
    "     20, 21, 22, 23, 24, 25,\n",
    "     24, 25, 26, 27, 28, 29,\n",
    "     28, 29, 30, 31, 32, 1]\n",
    "\n",
    "P = [16, 7, 20, 21, 29, 12, 28, 17,\n",
    "     1, 15, 23, 26, 5, 18, 31, 10,\n",
    "     2, 8, 24, 14, 32, 27, 3, 9,\n",
    "     19, 13, 30, 6, 22, 11, 4, 25]\n",
    "\n",
    "S_BOXES = [\n",
    "    # S1\n",
    "    [[14, 4, 13, 1, 2, 15, 11, 8, 3, 10, 6, 12, 5, 9, 0, 7],\n",
    "     [0, 15, 7, 4, 14, 2, 13, 1, 10, 6, 12, 11, 9, 5, 3, 8],\n",
    "     [4, 1, 14, 8, 13, 6, 2, 11, 15, 12, 9, 7, 3, 10, 5, 0],\n",
    "     [15, 12, 8, 2, 4, 9, 1, 7, 5, 11, 3, 14, 10, 0, 6, 13]],\n",
    "    \n",
    "    # S2\n",
    "    [[15, 1, 8, 14, 6, 11, 3, 4, 9, 7, 2, 13, 12, 0, 5, 10],\n",
    "     [3, 13, 4, 7, 15, 2, 8, 14, 12, 0, 1, 10, 6, 9, 11, 5],\n",
    "     [0, 14, 7, 11, 10, 4, 13, 1, 5, 8, 12, 6, 9, 3, 2, 15],\n",
    "     [13, 8, 10, 1, 3, 15, 4, 2, 11, 6, 7, 12, 0, 5, 14, 9]],\n",
    "\n",
    "    # S3\n",
    "    [[10, 0, 9, 14, 6, 3, 15, 5, 1, 13, 12, 7, 11, 4, 2, 8],\n",
    "     [13, 7, 0, 9, 3, 4, 6, 10, 2, 8, 5, 14, 12, 11, 15, 1],\n",
    "     [13, 6, 4, 9, 8, 15, 3, 0, 11, 1, 2, 12, 5, 10, 14, 7],\n",
    "     [1, 10, 13, 0, 6, 9, 8, 7, 4, 15, 14, 3, 11, 5, 2, 12]],\n",
    "    \n",
    "    # S4\n",
    "    [[7, 13, 14, 3, 0, 6, 9, 10, 1, 2, 8, 5, 11, 12, 4, 15],\n",
    "     [13, 8, 11, 5, 6, 15, 0, 3, 4, 7, 2, 12, 1, 10, 14, 9],\n",
    "     [10, 6, 9, 0, 12, 11, 7, 13, 15, 1, 3, 14, 5, 2, 8, 4],\n",
    "     [3, 15, 0, 6, 10, 1, 13, 8, 9, 4, 5, 11, 12, 7, 2, 14]],\n",
    "    \n",
    "    # S5\n",
    "    [[2, 12, 4, 1, 7, 10, 11, 6, 8, 5, 3, 15, 13, 0, 14, 9],\n",
    "     [14, 11, 2, 12, 4, 7, 13, 1, 5, 0, 15, 10, 3, 9, 8, 6],\n",
    "     [4, 2, 1, 11, 10, 13, 7, 8, 15, 9, 12, 5, 6, 3, 0, 14],\n",
    "     [11, 8, 12, 7, 1, 14, 2, 13, 6, 15, 0, 9, 10, 4, 5, 3]],\n",
    "    \n",
    "    # S6\n",
    "    [[12, 1, 10, 15, 9, 2, 6, 8, 0, 13, 3, 4, 14, 7, 5, 11],\n",
    "     [10, 15, 4, 2, 7, 12, 9, 5, 6, 1, 13, 14, 0, 11, 3, 8],\n",
    "     [9, 14, 15, 5, 2, 8, 12, 3, 7, 0, 4, 10, 1, 13, 11, 6],\n",
    "     [4, 3, 2, 12, 9, 5, 15, 10, 11, 14, 1, 7, 6, 0, 8, 13]],\n",
    "    \n",
    "    # S7\n",
    "    [[4, 11, 2, 14, 15, 0, 8, 13, 3, 12, 9, 7, 5, 10, 6, 1],\n",
    "     [13, 0, 11, 7, 4, 9, 1, 10, 14, 3, 5, 12, 2, 15, 8, 6],\n",
    "     [1, 4, 11, 13, 12, 3, 7, 14, 10, 15, 6, 8, 0, 5, 9, 2],\n",
    "     [6, 11, 13, 8, 1, 4, 10, 7, 9, 5, 0, 15, 14, 2, 3, 12]],\n",
    "    \n",
    "    # S8\n",
    "    [[13, 2, 8, 4, 6, 15, 11, 1, 10, 9, 3, 14, 5, 0, 12, 7],\n",
    "     [1, 15, 13, 8, 10, 3, 7, 4, 12, 5, 6, 11, 0, 14, 9, 2],\n",
    "     [7, 11, 4, 1, 9, 12, 14, 2, 0, 6, 10, 13, 15, 3, 5, 8],\n",
    "     [2, 1, 14, 7, 4, 10, 8, 13, 15, 12, 9, 0, 3, 5, 6, 11]]\n",
    "]\n"
   ]
  },
  {
   "cell_type": "markdown",
   "metadata": {},
   "source": [
    "## Keygen"
   ]
  },
  {
   "cell_type": "code",
   "execution_count": 22,
   "metadata": {},
   "outputs": [],
   "source": [
    "PC1 = [57, 49, 41, 33, 25, 17, 9,\n",
    "       1, 58, 50, 42, 34, 26, 18,\n",
    "       10, 2, 59, 51, 43, 35, 27,\n",
    "       19, 11, 3, 60, 52, 44, 36,\n",
    "       63, 55, 47, 39, 31, 23, 15,\n",
    "       7, 62, 54, 46, 38, 30, 22,\n",
    "       14, 6, 61, 53, 45, 37, 29,\n",
    "       21, 13, 5, 28, 20, 12, 4]\n",
    "\n",
    "PC2 = [14, 17, 11, 24, 1, 5, 3, 28,\n",
    "       15, 6, 21, 10, 23, 19, 12, 4,\n",
    "       26, 8, 16, 7, 27, 20, 13, 2,\n",
    "       41, 52, 31, 37, 47, 55, 30, 40,\n",
    "       51, 45, 33, 48, 44, 49, 39, 56,\n",
    "       34, 53, 46, 42, 50, 36, 29, 32]\n",
    "\n",
    "SHIFT_TABLE = [1, 1, 2, 2, 2, 2, 2, 2, \n",
    "               1, 2, 2, 2, 2, 2, 2, 1]"
   ]
  },
  {
   "cell_type": "code",
   "execution_count": 23,
   "metadata": {},
   "outputs": [],
   "source": [
    "# buat key untuk keygen\n",
    "keygen_key = \"133457799BBCDFF1\"\n",
    "keygen_bin_key = bin(int(keygen_key, 16))[2:].zfill(64)"
   ]
  },
  {
   "cell_type": "code",
   "execution_count": 24,
   "metadata": {},
   "outputs": [],
   "source": [
    "# implementasi key PC1 ke key keygen menggunakan permutasi\n",
    "permutated_keygen_key = \"\"\n",
    "for i in PC1:\n",
    "    permutated_keygen_key += keygen_bin_key[i-1]"
   ]
  },
  {
   "cell_type": "code",
   "execution_count": 25,
   "metadata": {},
   "outputs": [],
   "source": [
    "# split key menjadi 2 bagian\n",
    "C = permutated_keygen_key[:28]\n",
    "D = permutated_keygen_key[28:]"
   ]
  },
  {
   "cell_type": "code",
   "execution_count": 26,
   "metadata": {},
   "outputs": [],
   "source": [
    "# membuat list kosong untuk key\n",
    "keygen_round_keys = []"
   ]
  },
  {
   "cell_type": "code",
   "execution_count": 27,
   "metadata": {},
   "outputs": [],
   "source": [
    "# melakukan perulangan sebanyak 16 kali untuk membuat key\n",
    "for round_num in range(16):\n",
    "    \n",
    "    # melakukan pergeseran kedua bagian key berdasarkan shift table dan round number\n",
    "    shifts = SHIFT_TABLE[round_num]\n",
    "    \n",
    "    # melakukan pergeseran ke kiri untuk C\n",
    "    C = C[shifts:] + C[:shifts]\n",
    "    \n",
    "    # melakukan pergeseran ke kiri untuk D\n",
    "    D = D[shifts:] + D[:shifts]\n",
    "    \n",
    "    # menggabungkan C dan D\n",
    "    CD = C + D\n",
    "    \n",
    "    # implementasi key PC2 ke key keygen menggunakan permutasi\n",
    "    round_subkey = \"\"\n",
    "    for i in PC2:\n",
    "        round_subkey += CD[i - 1]\n",
    "        \n",
    "    # menambahkan key ke list keygen_round_keys\n",
    "    keygen_round_keys.append(round_subkey)"
   ]
  },
  {
   "cell_type": "code",
   "execution_count": 28,
   "metadata": {},
   "outputs": [
    {
     "name": "stdout",
     "output_type": "stream",
     "text": [
      "Round 1: 000110110000001011101111111111000111000001110010\n",
      "Round 2: 011110011010111011011001110110111100100111100101\n",
      "Round 3: 010101011111110010001010010000101100111110011001\n",
      "Round 4: 011100101010110111010110110110110011010100011101\n",
      "Round 5: 011111001110110000000111111010110101001110101000\n",
      "Round 6: 011000111010010100111110010100000111101100101111\n",
      "Round 7: 111011001000010010110111111101100001100010111100\n",
      "Round 8: 111101111000101000111010110000010011101111111011\n",
      "Round 9: 111000001101101111101011111011011110011110000001\n",
      "Round 10: 101100011111001101000111101110100100011001001111\n",
      "Round 11: 001000010101111111010011110111101101001110000110\n",
      "Round 12: 011101010111000111110101100101000110011111101001\n",
      "Round 13: 100101111100010111010001111110101011101001000001\n",
      "Round 14: 010111110100001110110111111100101110011100111010\n",
      "Round 15: 101111111001000110001101001111010011111100001010\n",
      "Round 16: 110010110011110110001011000011100001011111110101\n"
     ]
    }
   ],
   "source": [
    "# menampilkan key\n",
    "for i in range(16):\n",
    "    print(f\"Round {i+1}: {keygen_round_keys[i]}\")"
   ]
  },
  {
   "cell_type": "markdown",
   "metadata": {},
   "source": [
    "## Input"
   ]
  },
  {
   "cell_type": "code",
   "execution_count": 29,
   "metadata": {},
   "outputs": [],
   "source": [
    "# Key yang digunakan\n",
    "\n",
    "plaintext = \"0123456789ABCDEF\"\n",
    "key = \"133457799BBCDFF1\""
   ]
  },
  {
   "cell_type": "markdown",
   "metadata": {},
   "source": [
    "## Enkripsi"
   ]
  },
  {
   "cell_type": "code",
   "execution_count": 30,
   "metadata": {},
   "outputs": [],
   "source": [
    "# konversi plaintext dan key ke biner\n",
    "\n",
    "bin_plaintext = bin(int(plaintext, 16))[2:].zfill(64)\n",
    "bin_key = bin(int(key, 16))[2:].zfill(64)"
   ]
  },
  {
   "cell_type": "code",
   "execution_count": 31,
   "metadata": {},
   "outputs": [],
   "source": [
    "# implementasi permutasi awal IP ke plaintext\n",
    "\n",
    "permuted_text = ''\n",
    "for i in IP:\n",
    "    permuted_text += bin_plaintext[i - 1]"
   ]
  },
  {
   "cell_type": "code",
   "execution_count": 32,
   "metadata": {},
   "outputs": [],
   "source": [
    "# pecah plaintext yang sudah di permutasi menjadi 2 bagian\n",
    "L = permuted_text[:32]\n",
    "R = permuted_text[32:]"
   ]
  },
  {
   "cell_type": "code",
   "execution_count": 33,
   "metadata": {},
   "outputs": [],
   "source": [
    "# membuat subkeys\n",
    "\n",
    "subkeys = []\n",
    "for i in range(16):\n",
    "    subkeys.append(keygen_round_keys[i])"
   ]
  },
  {
   "cell_type": "code",
   "execution_count": 34,
   "metadata": {},
   "outputs": [],
   "source": [
    "# melakukan perulangan 16 kali untuk melakukan enkripsi\n",
    "\n",
    "for round_num in range(16):\n",
    "    \n",
    "    # melakukan expansi bagian kanan dari 32 bit menjadi 48 bit menggunakan tabel E\n",
    "    expanded_R = ''\n",
    "    \n",
    "    for i in E:\n",
    "        expanded_R += R[i - 1]\n",
    "        \n",
    "    # melakukan xor antara expanded_R dan subkeys berdasarkan round_num\n",
    "    xor_R = bin(int(expanded_R, 2) ^ int(subkeys[round_num], 2))[2:].zfill(48)\n",
    "    \n",
    "    # melakukan substitusi menggunakan S-Boxes\n",
    "    sbox_output = ''\n",
    "    for i in range(8):\n",
    "        block = xor_R[i * 6:(i + 1) * 6]\n",
    "        row = int(block[0] + block[5], 2)\n",
    "        col = int(block[1:5], 2)\n",
    "        sbox_value = S_BOXES[i][row][col]\n",
    "        sbox_output += bin(sbox_value)[2:].zfill(4)\n",
    "        \n",
    "    # melakukan permutasi menggunakan tabel P\n",
    "    pbox_output = ''\n",
    "    for i in P:\n",
    "        pbox_output += sbox_output[i - 1]\n",
    "        \n",
    "    # melakukan xor antara L dan pbox_output\n",
    "    xor_L = bin(int(L, 2) ^ int(pbox_output, 2))[2:].zfill(32)\n",
    "    \n",
    "    # L menjadi R, R menjadi xor_L\n",
    "    L = R\n",
    "    R = xor_L"
   ]
  },
  {
   "cell_type": "code",
   "execution_count": 35,
   "metadata": {},
   "outputs": [],
   "source": [
    "# melakukan kombinasi R dan L\n",
    "combined_RL = R + L\n",
    "\n",
    "# melakukan permutasi akhir menggunakan tabel FP\n",
    "final_output = ''\n",
    "for i in FP:\n",
    "    final_output += combined_RL[i - 1]\n",
    "    \n",
    "# konversi hasil akhir ke hex\n",
    "cipher_text = hex(int(final_output, 2))[2:].upper().zfill(16)"
   ]
  },
  {
   "cell_type": "code",
   "execution_count": 36,
   "metadata": {},
   "outputs": [
    {
     "name": "stdout",
     "output_type": "stream",
     "text": [
      "Cipher text:  EAD5DFB9436AC24A\n"
     ]
    }
   ],
   "source": [
    "# print hasil enkripsi\n",
    "print(\"Cipher text: \", cipher_text)"
   ]
  },
  {
   "cell_type": "markdown",
   "metadata": {},
   "source": [
    "## Dekripsi"
   ]
  },
  {
   "cell_type": "code",
   "execution_count": 37,
   "metadata": {},
   "outputs": [],
   "source": [
    "# konversi teks cipher ke biner\n",
    "bin_cipher = bin(int(cipher_text, 16))[2:].zfill(64)"
   ]
  },
  {
   "cell_type": "code",
   "execution_count": 38,
   "metadata": {},
   "outputs": [],
   "source": [
    "# implementasi permutasi awal IP ke plaintext\n",
    "decipher_permuted_text = ''\n",
    "for i in IP:\n",
    "    decipher_permuted_text += bin_cipher[i - 1]"
   ]
  },
  {
   "cell_type": "code",
   "execution_count": 39,
   "metadata": {},
   "outputs": [],
   "source": [
    "# pecah plaintext yang sudah di permutasi menjadi 2 bagian\n",
    "decipher_L = decipher_permuted_text[:32]\n",
    "decipher_R = decipher_permuted_text[32:]"
   ]
  },
  {
   "cell_type": "code",
   "execution_count": 40,
   "metadata": {},
   "outputs": [],
   "source": [
    "# membalikkan subkeys (untuk dekripsi)\n",
    "subkeys.reverse()"
   ]
  },
  {
   "cell_type": "code",
   "execution_count": 41,
   "metadata": {},
   "outputs": [],
   "source": [
    "# melakukan perulangan 16 kali untuk melakukan dekripsi\n",
    "for round_num in range(16):\n",
    "    # melakukan expansi bagian kanan dari 32 bit menjadi 48 bit menggunakan tabel E\n",
    "    decipher_expanded_R = ''\n",
    "    \n",
    "    for i in E:\n",
    "        decipher_expanded_R += decipher_R[i - 1]\n",
    "        \n",
    "    # melakukan xor antara expanded_R dan subkeys berdasarkan round_num\n",
    "    decipher_xor_R = bin(int(decipher_expanded_R, 2) ^ int(subkeys[round_num], 2))[2:].zfill(48)\n",
    "    \n",
    "    # melakukan substitusi menggunakan S-Boxes\n",
    "    decipher_sbox_output = ''\n",
    "    \n",
    "    for i in range(8):\n",
    "        block = decipher_xor_R[i * 6:(i + 1) * 6]\n",
    "        row = int(block[0] + block[5], 2)\n",
    "        col = int(block[1:5], 2)\n",
    "        sbox_value = S_BOXES[i][row][col]\n",
    "        decipher_sbox_output += bin(sbox_value)[2:].zfill(4)\n",
    "        \n",
    "    # melakukan permutasi menggunakan tabel P\n",
    "    decipher_pbox_output = ''\n",
    "    \n",
    "    for i in P:\n",
    "        decipher_pbox_output += decipher_sbox_output[i - 1]\n",
    "        \n",
    "    # melakukan xor antara L dan pbox_output\n",
    "    decipher_xor_L = bin(int(decipher_L, 2) ^ int(decipher_pbox_output, 2))[2:].zfill(32)\n",
    "    \n",
    "    # L menjadi R, R menjadi xor_L\n",
    "    decipher_L = decipher_R\n",
    "    decipher_R = decipher_xor_L"
   ]
  },
  {
   "cell_type": "code",
   "execution_count": 42,
   "metadata": {},
   "outputs": [],
   "source": [
    "# melakukan kombinasi R dan L\n",
    "decipher_combined_RL = decipher_R + decipher_L\n",
    "\n",
    "# melakukan permutasi akhir menggunakan tabel FP\n",
    "decipher_final_output = ''\n",
    "for i in FP:\n",
    "    decipher_final_output += decipher_combined_RL[i - 1]\n",
    "    \n",
    "# konversi hasil akhir ke hex\n",
    "decipher_text = hex(int(decipher_final_output, 2))[2:].upper().zfill(16)"
   ]
  },
  {
   "cell_type": "code",
   "execution_count": 43,
   "metadata": {},
   "outputs": [
    {
     "name": "stdout",
     "output_type": "stream",
     "text": [
      "Decipher text:  74657374696E6720\n"
     ]
    }
   ],
   "source": [
    "# print hasil dekripsi\n",
    "print(\"Decipher text: \", decipher_text)\n",
    "\n",
    "# konversi dari "
   ]
  }
 ],
 "metadata": {
  "kernelspec": {
   "display_name": "Python 3",
   "language": "python",
   "name": "python3"
  },
  "language_info": {
   "codemirror_mode": {
    "name": "ipython",
    "version": 3
   },
   "file_extension": ".py",
   "mimetype": "text/x-python",
   "name": "python",
   "nbconvert_exporter": "python",
   "pygments_lexer": "ipython3",
   "version": "3.10.6"
  }
 },
 "nbformat": 4,
 "nbformat_minor": 2
}
